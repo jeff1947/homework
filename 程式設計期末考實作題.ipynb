{
  "nbformat": 4,
  "nbformat_minor": 0,
  "metadata": {
    "colab": {
      "provenance": [],
      "authorship_tag": "ABX9TyPBgHR1Two0P7VNRWy9rnDJ",
      "include_colab_link": true
    },
    "kernelspec": {
      "name": "python3",
      "display_name": "Python 3"
    },
    "language_info": {
      "name": "python"
    }
  },
  "cells": [
    {
      "cell_type": "markdown",
      "metadata": {
        "id": "view-in-github",
        "colab_type": "text"
      },
      "source": [
        "<a href=\"https://colab.research.google.com/github/jeff1947/homework/blob/main/%E7%A8%8B%E5%BC%8F%E8%A8%AD%E8%A8%88%E6%9C%9F%E6%9C%AB%E8%80%83%E5%AF%A6%E4%BD%9C%E9%A1%8C.ipynb\" target=\"_parent\"><img src=\"https://colab.research.google.com/assets/colab-badge.svg\" alt=\"Open In Colab\"/></a>"
      ]
    },
    {
      "cell_type": "code",
      "source": [
        "import math\n",
        "\n",
        "class City:\n",
        "    def __init__(self, name, coordinates, accommodation_cost):\n",
        "        self.name = name\n",
        "        self.coordinates = coordinates\n",
        "        self.accommodation_cost = accommodation_cost\n",
        "\n",
        "    def calculate_discounted_cost(self, previous_city):\n",
        "        if previous_city is None:\n",
        "            return self.accommodation_cost\n",
        "        elif previous_city.name in ['C', 'G'] and self.name == 'A':\n",
        "            return 0.8 * self.accommodation_cost\n",
        "        elif previous_city.name in ['D', 'E'] and self.name == 'B':\n",
        "            return 0.8 * self.accommodation_cost\n",
        "        elif previous_city.name in ['A', 'C'] and self.name == 'F':\n",
        "            return 0.8 * self.accommodation_cost\n",
        "        elif previous_city.name in ['E', 'F'] and self.name == 'G':\n",
        "            return 0.8 * self.accommodation_cost\n",
        "        else:\n",
        "            return self.accommodation_cost\n",
        "\n",
        "    def calculate_distance(self, other_city):\n",
        "        x1, y1 = self.coordinates\n",
        "        x2, y2 = other_city.coordinates\n",
        "        return math.sqrt((x2 - x1)**2 + (y2 - y1)**2)\n",
        "\n",
        "\n",
        "def find_cheapest_travel_plan(start_city, cities):\n",
        "    current_city = start_city\n",
        "    visited_cities = [current_city]\n",
        "    total_cost = 0\n",
        "\n",
        "    while len(visited_cities) < len(cities):\n",
        "        min_cost = float('inf')\n",
        "        next_city = None\n",
        "\n",
        "        for city in cities:\n",
        "            if city not in visited_cities:\n",
        "                cost = current_city.calculate_distance(city) * 100 + city.calculate_discounted_cost(current_city)\n",
        "                if cost < min_cost:\n",
        "                    min_cost = cost\n",
        "                    next_city = city\n",
        "\n",
        "        visited_cities.append(next_city)\n",
        "        total_cost += min_cost\n",
        "        current_city = next_city\n",
        "\n",
        "    return visited_cities, total_cost\n",
        "\n",
        "\n",
        "# Create City objects\n",
        "city_A = City('A', (0, 0), 2000)\n",
        "city_B = City('B', (0, 120), 2400)\n",
        "city_C = City('C', (30, 100), 2400)\n",
        "city_D = City('D', (80, 0), 1600)\n",
        "city_E = City('E', (45, 10), 1500)\n",
        "city_F = City('F', (90, 160), 2200)\n",
        "city_G = City('G', (120, 200), 1200)\n",
        "\n",
        "# Set up the list of cities\n",
        "cities = [city_A, city_B, city_C, city_D, city_E, city_F, city_G]\n",
        "\n",
        "# Find the cheapest travel plan\n",
        "cheapest_plan = find_cheapest_travel_plan(city_A, cities)\n",
        "\n",
        "# Print the travel plan and total cost\n",
        "for city in cheapest_plan[0]:\n",
        "    print(city.name, end=\" -> \")\n",
        "print(\"A\")  # Print the starting city\n",
        "print(\"Total Cost:\", cheapest_plan[1])\n"
      ],
      "metadata": {
        "id": "LJVcOqHudbWK",
        "outputId": "a994a9b1-2630-4ce9-e833-b2c66efcd505",
        "colab": {
          "base_uri": "https://localhost:8080/"
        }
      },
      "execution_count": 7,
      "outputs": [
        {
          "output_type": "stream",
          "name": "stdout",
          "text": [
            "A -> E -> D -> C -> B -> F -> G -> A\n",
            "Total Cost: 48944.57613804574\n"
          ]
        }
      ]
    }
  ]
}