{
  "nbformat": 4,
  "nbformat_minor": 0,
  "metadata": {
    "colab": {
      "provenance": [],
      "authorship_tag": "ABX9TyONuYSRIDkrbdxkxXnLQvHU",
      "include_colab_link": true
    },
    "kernelspec": {
      "name": "python3",
      "display_name": "Python 3"
    },
    "language_info": {
      "name": "python"
    }
  },
  "cells": [
    {
      "cell_type": "markdown",
      "metadata": {
        "id": "view-in-github",
        "colab_type": "text"
      },
      "source": [
        "<a href=\"https://colab.research.google.com/github/jeff1947/homework/blob/main/%E7%A8%8B%E5%BC%8F%E8%A8%AD%E8%A8%88%E6%9C%9F%E6%9C%AB%E8%80%83%E5%AF%A6%E4%BD%9C%E9%A1%8C.ipynb\" target=\"_parent\"><img src=\"https://colab.research.google.com/assets/colab-badge.svg\" alt=\"Open In Colab\"/></a>"
      ]
    },
    {
      "cell_type": "code",
      "source": [
        "import math\n",
        "\n",
        "class City:\n",
        "    def __init__(self, name, coordinates, accommodation_cost):\n",
        "        self.name = name\n",
        "        self.coordinates = coordinates\n",
        "        self.accommodation_cost = accommodation_cost\n",
        "\n",
        "    def get_discounted_cost(self, previous_city):\n",
        "        if previous_city and (previous_city.name == \"C\" or previous_city.name == \"G\"):\n",
        "            return 0.8 * self.accommodation_cost\n",
        "        return self.accommodation_cost\n",
        "\n",
        "def calculate_distance(city1, city2):\n",
        "    x1, y1 = city1.coordinates\n",
        "    x2, y2 = city2.coordinates\n",
        "    return math.sqrt((x2 - x1) ** 2 + (y2 - y1) ** 2)\n",
        "\n",
        "def calculate_travel_cost(start_city, itinerary):\n",
        "    total_distance = 0\n",
        "    total_cost = 0\n",
        "    previous_city = start_city\n",
        "    for city in itinerary:\n",
        "        distance = calculate_distance(previous_city, city)\n",
        "        fuel_cost = distance * 100\n",
        "        accommodation_cost = city.get_discounted_cost(previous_city)\n",
        "        total_distance += distance\n",
        "        total_cost += fuel_cost + accommodation_cost\n",
        "        previous_city = city\n",
        "    return total_distance, total_cost\n",
        "\n",
        "def find_cheapest_itinerary(start_city, cities):\n",
        "    remaining_cities = cities.copy()\n",
        "    remaining_cities.remove(start_city)\n",
        "    best_itinerary = []\n",
        "    best_cost = float('inf')\n",
        "\n",
        "    def backtrack(current_city, itinerary, total_cost):\n",
        "        nonlocal best_cost, best_itinerary\n",
        "\n",
        "        if not remaining_cities:\n",
        "            total_distance, total_cost = calculate_travel_cost(start_city, itinerary)\n",
        "            if total_cost < best_cost:\n",
        "                best_cost = total_cost\n",
        "                best_itinerary = itinerary[:]\n",
        "            return\n",
        "\n",
        "        for city in remaining_cities:\n",
        "            remaining_cities.remove(city)\n",
        "            new_itinerary = itinerary + [city]\n",
        "            new_total_cost = total_cost + calculate_distance(current_city, city) * 100 + city.accommodation_cost\n",
        "            backtrack(city, new_itinerary, new_total_cost)\n",
        "            remaining_cities.append(city)\n",
        "\n",
        "    backtrack(start_city, [], 0)\n",
        "    return best_itinerary\n",
        "\n",
        "# 创建城市对象\n",
        "city_a = City('A', (0, 0), 2000)\n",
        "city_b = City('B', (0, 120), 2400)\n",
        "city_c = City('C', (30, 100), 2400)\n",
        "city_d = City('D', (80, 0), 1600)\n",
        "city_e = City('E', (45, 10), 1500)\n",
        "city_f = City('F', (90, 160), 2200)\n",
        "city_g = City('G', (120, 200), 1200)\n",
        "\n",
        "cities = [city_a, city_b, city_c, city_d, city_e, city_f, city_g]\n",
        "\n",
        "# 选择起始城市\n",
        "start_city = city_a\n",
        "\n",
        "# 寻找最便宜的旅行行程\n",
        "itinerary = find_cheapest_itinerary(start_city, cities)\n",
        "\n",
        "# 打印最便宜的旅行行程\n",
        "print(\"旅行行程顺序:\")\n",
        "for city in itinerary:\n",
        "    print(city.name)\n",
        "total_distance, total_cost = calculate_travel_cost(start_city, itinerary)\n",
        "print(\"总旅程距离:\", total_distance)\n",
        "print(\"总旅费:\", total_cost)\n"
      ],
      "metadata": {
        "colab": {
          "base_uri": "https://localhost:8080/"
        },
        "id": "PCqzFg8GbSfw",
        "outputId": "e0212634-31a8-4a0c-9f81-2d1f1df1324f"
      },
      "execution_count": 6,
      "outputs": [
        {
          "output_type": "stream",
          "name": "stdout",
          "text": [
            "旅行行程顺序:\n",
            "E\n",
            "D\n",
            "G\n",
            "F\n",
            "C\n",
            "B\n",
            "总旅程距离: 457.367378773604\n",
            "总旅费: 56116.7378773604\n"
          ]
        }
      ]
    }
  ]
}